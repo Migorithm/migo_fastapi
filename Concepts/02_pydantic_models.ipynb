{
 "cells": [
  {
   "cell_type": "code",
   "execution_count": 1,
   "metadata": {},
   "outputs": [
    {
     "name": "stdout",
     "output_type": "stream",
     "text": [
      "Collecting pydantic\n",
      "  Downloading pydantic-1.9.0-cp310-cp310-win_amd64.whl (2.1 MB)\n",
      "Collecting typing-extensions>=3.7.4.3\n",
      "  Using cached typing_extensions-4.1.1-py3-none-any.whl (26 kB)\n",
      "Installing collected packages: typing-extensions, pydantic\n",
      "Successfully installed pydantic-1.9.0 typing-extensions-4.1.1\n",
      "Note: you may need to restart the kernel to use updated packages.\n"
     ]
    },
    {
     "name": "stderr",
     "output_type": "stream",
     "text": [
      "WARNING: You are using pip version 21.2.4; however, version 22.0.4 is available.\n",
      "You should consider upgrading via the 'c:\\migo_fastapi\\venv\\Scripts\\python.exe -m pip install --upgrade pip' command.\n"
     ]
    }
   ],
   "source": [
    "%pip install pydantic"
   ]
  },
  {
   "cell_type": "markdown",
   "metadata": {},
   "source": [
    "Pydantic is structured around one core class, which is called the base model. "
   ]
  },
  {
   "cell_type": "code",
   "execution_count": 1,
   "metadata": {},
   "outputs": [],
   "source": [
    "from pydantic import BaseModel\n",
    "\n",
    "class User(BaseModel):\n",
    "    \"Here you add in data properties.\"\n",
    "    username: str\n",
    "    password: str\n",
    "    "
   ]
  },
  {
   "cell_type": "code",
   "execution_count": 6,
   "metadata": {},
   "outputs": [
    {
     "data": {
      "text/plain": [
       "User(username='Migo', password='123')"
      ]
     },
     "execution_count": 6,
     "metadata": {},
     "output_type": "execute_result"
    }
   ],
   "source": [
    "user = { \"username\":\"Migo\",\"password\":123}\n",
    "user = User(**user)\n",
    "user #Automatic conversion of type!"
   ]
  },
  {
   "cell_type": "code",
   "execution_count": 11,
   "metadata": {},
   "outputs": [
    {
     "data": {
      "text/plain": [
       "'{\"username\": \"Migo\", \"password\": \"123\"}'"
      ]
     },
     "execution_count": 11,
     "metadata": {},
     "output_type": "execute_result"
    }
   ],
   "source": [
    "user.json()"
   ]
  },
  {
   "cell_type": "code",
   "execution_count": 12,
   "metadata": {},
   "outputs": [
    {
     "data": {
      "text/plain": [
       "'{\"title\": \"User\", \"description\": \"Here you add in data properties.\", \"type\": \"object\", \"properties\": {\"username\": {\"title\": \"Username\", \"type\": \"string\"}, \"password\": {\"title\": \"Password\", \"type\": \"string\"}}, \"required\": [\"username\", \"password\"]}'"
      ]
     },
     "execution_count": 12,
     "metadata": {},
     "output_type": "execute_result"
    }
   ],
   "source": [
    "user.schema_json()"
   ]
  },
  {
   "cell_type": "markdown",
   "metadata": {},
   "source": [
    "Now, we don't have to be restricted to single value types like strings and integers. \n",
    "\n",
    "TO use other different type hints to create specific fields like lists and dictionaries, we use **typing** module.\n",
    "\n"
   ]
  },
  {
   "cell_type": "code",
   "execution_count": 3,
   "metadata": {},
   "outputs": [],
   "source": [
    "from pydantic import BaseModel\n",
    "from typing import List,Dict,Optional\n",
    "\n",
    "\n",
    "class Comment(BaseModel):\n",
    "    author: str\n",
    "    \n",
    "class User(BaseModel):\n",
    "    username:str\n",
    "    password: str\n",
    "    likes: Dict[str,int] #likes need to be a string key and integer value\n",
    "    hobby: Optional[str] #optional field hobby. \n",
    "    address: Optional[str] = None\n",
    "    comments: List[Comment]\n",
    "\n",
    "class AdminUser(User): #Inherit from another pydantic\n",
    "    admin_password: str\n",
    "    \n",
    "\n",
    "\n",
    "\n"
   ]
  },
  {
   "cell_type": "code",
   "execution_count": 5,
   "metadata": {},
   "outputs": [
    {
     "ename": "ValidationError",
     "evalue": "4 validation errors for User\nusername\n  field required (type=value_error.missing)\npassword\n  field required (type=value_error.missing)\nlikes\n  field required (type=value_error.missing)\ncomments\n  field required (type=value_error.missing)",
     "output_type": "error",
     "traceback": [
      "\u001b[1;31m---------------------------------------------------------------------------\u001b[0m",
      "\u001b[1;31mValidationError\u001b[0m                           Traceback (most recent call last)",
      "\u001b[1;32mc:\\migo_fastapi\\Concepts\\02_pydantic_models.ipynb Cell 6'\u001b[0m in \u001b[0;36m<cell line: 2>\u001b[1;34m()\u001b[0m\n\u001b[0;32m      <a href='vscode-notebook-cell:/c%3A/migo_fastapi/Concepts/02_pydantic_models.ipynb#ch0000012?line=0'>1</a>\u001b[0m \u001b[39m#If you don't pass in values\u001b[39;00m\n\u001b[1;32m----> <a href='vscode-notebook-cell:/c%3A/migo_fastapi/Concepts/02_pydantic_models.ipynb#ch0000012?line=1'>2</a>\u001b[0m user \u001b[39m=\u001b[39m User()\n",
      "File \u001b[1;32mc:\\migo_fastapi\\venv\\lib\\site-packages\\pydantic\\main.py:331\u001b[0m, in \u001b[0;36mpydantic.main.BaseModel.__init__\u001b[1;34m()\u001b[0m\n",
      "\u001b[1;31mValidationError\u001b[0m: 4 validation errors for User\nusername\n  field required (type=value_error.missing)\npassword\n  field required (type=value_error.missing)\nlikes\n  field required (type=value_error.missing)\ncomments\n  field required (type=value_error.missing)"
     ]
    }
   ],
   "source": [
    "#If you don't pass in values\n",
    "user = User()"
   ]
  },
  {
   "cell_type": "markdown",
   "metadata": {},
   "source": [
    "### CODING EXERCISE: Design a social media post model w/ Pydantic"
   ]
  },
  {
   "cell_type": "code",
   "execution_count": 1,
   "metadata": {},
   "outputs": [],
   "source": [
    "from pydantic import BaseModel\n",
    "from typing import List,Optional\n",
    "\n",
    "class Comment(BaseModel):\n",
    "    author: str\n",
    "    comment:str\n",
    "    likes:int\n",
    "class Post(BaseModel):\n",
    "    author:str\n",
    "    co_author:Optional[str]=None\n",
    "    date:str\n",
    "    title:str\n",
    "    content:str\n",
    "    id: int\n",
    "    likes: List[str]\n",
    "    comments:List[Comment]\n",
    "    "
   ]
  },
  {
   "cell_type": "code",
   "execution_count": 4,
   "metadata": {},
   "outputs": [],
   "source": [
    "comments=[\n",
    "    Comment(author=\"John\",comment=\"This is a comment!\",likes=2),\n",
    "    Comment(author=\"Son\",comment=\"This is a second comment\",likes=10)    \n",
    "]\n",
    "\n",
    "post = Post(\n",
    "    author=\"Migo\",\n",
    "    date=\"1/1/1975\",\n",
    "    title=\"Interesting Title\",\n",
    "    content=\"Some Interesting Content\",\n",
    "    id=23,\n",
    "    likes=[\"John\",\"Son\"],\n",
    "    comments=comments\n",
    "    )\n"
   ]
  },
  {
   "cell_type": "code",
   "execution_count": 5,
   "metadata": {},
   "outputs": [
    {
     "name": "stdout",
     "output_type": "stream",
     "text": [
      "author='Migo' co_author=None date='1/1/1975' title='Interesting Title' content='Some Interesting Content' id=23 likes=['John', 'Son'] comments=[Comment(author='John', comment='This is a comment!', likes=2), Comment(author='Son', comment='This is a second comment', likes=10)]\n"
     ]
    }
   ],
   "source": [
    "print(post)"
   ]
  },
  {
   "cell_type": "code",
   "execution_count": 6,
   "metadata": {},
   "outputs": [
    {
     "data": {
      "text/plain": [
       "{'author': 'Migo',\n",
       " 'co_author': None,\n",
       " 'date': '1/1/1975',\n",
       " 'title': 'Interesting Title',\n",
       " 'content': 'Some Interesting Content',\n",
       " 'id': 23,\n",
       " 'likes': ['John', 'Son'],\n",
       " 'comments': [Comment(author='John', comment='This is a comment!', likes=2),\n",
       "  Comment(author='Son', comment='This is a second comment', likes=10)]}"
      ]
     },
     "execution_count": 6,
     "metadata": {},
     "output_type": "execute_result"
    }
   ],
   "source": [
    "post.__dict__"
   ]
  },
  {
   "cell_type": "code",
   "execution_count": 8,
   "metadata": {},
   "outputs": [
    {
     "data": {
      "text/plain": [
       "'John'"
      ]
     },
     "execution_count": 8,
     "metadata": {},
     "output_type": "execute_result"
    }
   ],
   "source": [
    "post.comments[0].author"
   ]
  },
  {
   "cell_type": "markdown",
   "metadata": {},
   "source": [
    "This exercise should give you a pretty good idea of what pedantic models should look like.\n",
    "\n",
    "When we're actually creating these, it's not going to be given hardcoded values in our APIs. In fact, we usually take them from our requests. "
   ]
  }
 ],
 "metadata": {
  "interpreter": {
   "hash": "ed0f388511a4895bce3d674fe9c68f57156fe7f1446454194d7d5af34ab4ceb8"
  },
  "kernelspec": {
   "display_name": "Python 3.10.2 ('venv': venv)",
   "language": "python",
   "name": "python3"
  },
  "language_info": {
   "codemirror_mode": {
    "name": "ipython",
    "version": 3
   },
   "file_extension": ".py",
   "mimetype": "text/x-python",
   "name": "python",
   "nbconvert_exporter": "python",
   "pygments_lexer": "ipython3",
   "version": "3.10.2"
  },
  "orig_nbformat": 4
 },
 "nbformat": 4,
 "nbformat_minor": 2
}
